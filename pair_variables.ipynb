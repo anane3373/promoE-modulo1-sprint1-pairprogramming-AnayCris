{
 "cells": [
  {
   "cell_type": "code",
   "execution_count": 10,
   "metadata": {},
   "outputs": [],
   "source": [
    "numero1 = 8\n",
    "numero2 = 9\n",
    "numero3 = 10\n"
   ]
  },
  {
   "cell_type": "code",
   "execution_count": 11,
   "metadata": {},
   "outputs": [
    {
     "name": "stdout",
     "output_type": "stream",
     "text": [
      "False\n",
      "False\n",
      "False\n",
      "True\n"
     ]
    }
   ],
   "source": [
    "print (numero1 > numero2)\n",
    "print (numero1 < numero2\n",
    "  and  numero1 > numero3)\n",
    "\n",
    "print (numero3 == numero2)\n",
    "print (numero2 != numero1)\n",
    "\n"
   ]
  },
  {
   "cell_type": "code",
   "execution_count": 12,
   "metadata": {},
   "outputs": [
    {
     "name": "stdout",
     "output_type": "stream",
     "text": [
      "13.73\n",
      "2.1100000000000003\n",
      "2.1100000000000003\n",
      "1.4\n"
     ]
    }
   ],
   "source": [
    "altura1 = 7.92\n",
    "altura2 = 5.81\n",
    "\n",
    "print (altura1 + altura2)\n",
    "print (altura1 - altura2)\n",
    "print (altura1 % altura2)\n",
    "print(round (altura1 / altura2,1))\n",
    "\n"
   ]
  },
  {
   "cell_type": "code",
   "execution_count": 13,
   "metadata": {},
   "outputs": [
    {
     "name": "stdout",
     "output_type": "stream",
     "text": [
      "ANA GUARDIA\n",
      "ana guardia\n",
      "Ana Guardia\n",
      "Ana guardia\n"
     ]
    }
   ],
   "source": [
    "nombre = input(\"Cual es tu nombre completo?\")\n",
    "print (nombre.upper())\n",
    "print (nombre.lower())\n",
    "print (nombre.title())\n",
    "print (nombre.capitalize())\n",
    "\n"
   ]
  },
  {
   "cell_type": "code",
   "execution_count": 14,
   "metadata": {},
   "outputs": [
    {
     "name": "stdout",
     "output_type": "stream",
     "text": [
      "ne voy A comer\n"
     ]
    }
   ],
   "source": [
    "frase = input(\"Dime una frase\")\n",
    "vocal = input(\"Dime una vocal\")\n",
    "frase2 = frase.replace(vocal,vocal.capitalize())\n",
    "print (frase2)\n"
   ]
  },
  {
   "cell_type": "code",
   "execution_count": 15,
   "metadata": {},
   "outputs": [
    {
     "name": "stdout",
     "output_type": "stream",
     "text": [
      "\"peras\"\n",
      " \"manzanas\"\n",
      " \"platanos\"\n"
     ]
    }
   ],
   "source": [
    "lista_compra = input(\"Dime la lista de la compra\")\n",
    "elementos = lista_compra.split (\",\")\n",
    "lista_compra2 = \"\\n\".join(elementos)\n",
    "print (lista_compra2)\n",
    "\n",
    "\n"
   ]
  }
 ],
 "metadata": {
  "kernelspec": {
   "display_name": "base",
   "language": "python",
   "name": "python3"
  },
  "language_info": {
   "codemirror_mode": {
    "name": "ipython",
    "version": 3
   },
   "file_extension": ".py",
   "mimetype": "text/x-python",
   "name": "python",
   "nbconvert_exporter": "python",
   "pygments_lexer": "ipython3",
   "version": "3.9.7"
  },
  "orig_nbformat": 4
 },
 "nbformat": 4,
 "nbformat_minor": 2
}
