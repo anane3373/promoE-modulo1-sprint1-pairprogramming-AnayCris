{
 "cells": [
  {
   "cell_type": "code",
   "execution_count": 5,
   "metadata": {},
   "outputs": [
    {
     "name": "stdout",
     "output_type": "stream",
     "text": [
      "['A', 'd', 'a', 'l', 'a', 'b']\n"
     ]
    }
   ],
   "source": [
    "tupla_1 = (\"A\",)\n",
    "lista_tupla_1 = list(tupla_1)\n",
    "lista_tupla_1.extend([\"d\",\"a\", \"l\", \"a\", \"b\"])\n",
    "print(lista_tupla_1)\n",
    "#Sí que se puede pero primero debe convertirse a lista porque la tupla es inmutable.\n"
   ]
  },
  {
   "cell_type": "code",
   "execution_count": 9,
   "metadata": {},
   "outputs": [
    {
     "name": "stdout",
     "output_type": "stream",
     "text": [
      "3\n",
      "2\n"
     ]
    }
   ],
   "source": [
    "tupla_2 = (\"A\",\"d\",\"a\", \"l\", \"a\", \"b\")\n",
    "#Una tupla permite tener varios elementos\n",
    "\n",
    "print(tupla_2.index(\"l\"))\n",
    "print(tupla_2.count(\"a\"))\n",
    "\n"
   ]
  },
  {
   "cell_type": "code",
   "execution_count": 27,
   "metadata": {},
   "outputs": [
    {
     "name": "stdout",
     "output_type": "stream",
     "text": [
      "{8, 6}\n",
      "{18, 10}\n",
      "{1, 2, 3, 9}\n",
      "{8, 18, 10, 6}\n",
      "False\n",
      "False\n",
      "{8, 18, 10, 6}\n",
      "{18, 10, 6}\n"
     ]
    }
   ],
   "source": [
    "set1 = {1,3,6,2,8,9}\n",
    "set2 = {2,1,9,3,10,18}\n",
    "\n",
    "set3 = set1.difference(set2)\n",
    "print(set3)\n",
    "\n",
    "set4 = set2.difference(set1)\n",
    "print(set4)\n",
    "\n",
    "set5 = set1.intersection(set2)\n",
    "print(set5)\n",
    "\n",
    "set6 = set()\n",
    "set6 = set6.union(set3)\n",
    "set6 = set6.union(set4)\n",
    "print(set6)\n",
    "\n",
    "print(set1 == set6)\n",
    "\n",
    "#No es igual, el resultado es False\n",
    "\n",
    "set2.issubset(set1)\n",
    "print(set2.issubset(set1))\n",
    "\n",
    "print(set6)\n",
    "set6.remove(8)\n",
    "print(set6)\n",
    "\n",
    "\n",
    "\n"
   ]
  }
 ],
 "metadata": {
  "kernelspec": {
   "display_name": "base",
   "language": "python",
   "name": "python3"
  },
  "language_info": {
   "codemirror_mode": {
    "name": "ipython",
    "version": 3
   },
   "file_extension": ".py",
   "mimetype": "text/x-python",
   "name": "python",
   "nbconvert_exporter": "python",
   "pygments_lexer": "ipython3",
   "version": "3.9.7"
  },
  "orig_nbformat": 4
 },
 "nbformat": 4,
 "nbformat_minor": 2
}
