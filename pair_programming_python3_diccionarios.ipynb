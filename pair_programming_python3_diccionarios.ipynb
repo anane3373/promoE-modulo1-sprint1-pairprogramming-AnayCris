{
 "cells": [
  {
   "attachments": {},
   "cell_type": "markdown",
   "metadata": {},
   "source": [
    "- Cread un input que pregunte a la usuaria por tres nombres. Almacenad el resultado en una lista. Esta lista será el value de la key nombres.\n",
    "- Cread un input que pregunte a la usuaria por tres apellidos. Convertir el resultado en lista y este será el value de la key apellidos.\n",
    "- Cread un input que pregunte a la usuaria por tres edades. Almancenad los resultados en una lista. Esta lista será el value de la key edades.\n",
    "- Cread un input que pregunte a la usuaria por el número de hijos. Almacenad este resultado en una lista. Esta lista será el value de la key hijos."
   ]
  },
  {
   "cell_type": "code",
   "execution_count": 6,
   "metadata": {},
   "outputs": [
    {
     "name": "stdout",
     "output_type": "stream",
     "text": [
      "['Laura', ' Sara', ' María']\n"
     ]
    }
   ],
   "source": [
    "nombres = input(\"Dime tres nombres\")\n",
    "lista_nombres = nombres.split(\",\")\n",
    "print(lista_nombres)\n"
   ]
  },
  {
   "cell_type": "code",
   "execution_count": 7,
   "metadata": {},
   "outputs": [
    {
     "name": "stdout",
     "output_type": "stream",
     "text": [
      "['López', ' Gómez', ' Fernández']\n"
     ]
    }
   ],
   "source": [
    "apellidos = input(\"Dime tres apellidos\")\n",
    "lista_apellidos = apellidos.split(\",\")\n",
    "print(lista_apellidos)"
   ]
  },
  {
   "cell_type": "code",
   "execution_count": 16,
   "metadata": {},
   "outputs": [
    {
     "name": "stdout",
     "output_type": "stream",
     "text": [
      "[35, 27, 40]\n"
     ]
    }
   ],
   "source": [
    "edades = input(\"Dime tres edades\")\n",
    "lista_edades = edades.split(\",\")\n",
    "lista_edades = [int(i) for i in lista_edades] #Convierte los elementos de la lista en int, ya que lo proveniente de input() es siempre un string.\n",
    "print(lista_edades)"
   ]
  },
  {
   "cell_type": "code",
   "execution_count": 14,
   "metadata": {},
   "outputs": [
    {
     "name": "stdout",
     "output_type": "stream",
     "text": [
      "[2, 0, 3]\n"
     ]
    }
   ],
   "source": [
    "hijos = input(\"Dime el número de hijos dde cada una\")\n",
    "lista_hijos = hijos.split(\",\")\n",
    "lista_hijos = [int(i) for i in lista_hijos]\n",
    "print(lista_hijos)"
   ]
  },
  {
   "cell_type": "code",
   "execution_count": 17,
   "metadata": {},
   "outputs": [
    {
     "data": {
      "text/plain": [
       "{'nombres': ['Laura', ' Sara', ' María'],\n",
       " 'apellidos': ['López', ' Gómez', ' Fernández'],\n",
       " 'edades': [35, 27, 40],\n",
       " 'hijos': [2, 0, 3]}"
      ]
     },
     "execution_count": 17,
     "metadata": {},
     "output_type": "execute_result"
    }
   ],
   "source": [
    "#Cread un diccionario con los resultados del input. \n",
    "\n",
    "personas = {\"nombres\" : lista_nombres, \"apellidos\" : lista_apellidos, \n",
    "            \"edades\" : lista_edades, \"hijos\" : lista_hijos}\n",
    "personas"
   ]
  },
  {
   "cell_type": "code",
   "execution_count": 19,
   "metadata": {},
   "outputs": [
    {
     "data": {
      "text/plain": [
       "[3, 1, 0]"
      ]
     },
     "execution_count": 19,
     "metadata": {},
     "output_type": "execute_result"
    }
   ],
   "source": [
    "#Añadid una nueva key que contenga el número de hermanos. \n",
    "\n",
    "hermanos = input(\"Dime el número de hermanos de cada uno\")\n",
    "lista_hermanos = hermanos.split(\",\")\n",
    "lista_hermanos = [int(i) for i in lista_hermanos]\n",
    "lista_hermanos"
   ]
  },
  {
   "cell_type": "code",
   "execution_count": 20,
   "metadata": {},
   "outputs": [
    {
     "data": {
      "text/plain": [
       "{'nombres': ['Laura', ' Sara', ' María'],\n",
       " 'apellidos': ['López', ' Gómez', ' Fernández'],\n",
       " 'edades': [35, 27, 40],\n",
       " 'hijos': [2, 0, 3],\n",
       " 'hermanos': [3, 1, 0]}"
      ]
     },
     "execution_count": 20,
     "metadata": {},
     "output_type": "execute_result"
    }
   ],
   "source": [
    "personas.update({\"hermanos\" : lista_hermanos})\n",
    "personas"
   ]
  },
  {
   "cell_type": "code",
   "execution_count": 21,
   "metadata": {},
   "outputs": [
    {
     "name": "stdout",
     "output_type": "stream",
     "text": [
      "dict_keys(['nombres', 'apellidos', 'edades', 'hijos', 'hermanos'])\n",
      "dict_values([['Laura', ' Sara', ' María'], ['López', ' Gómez', ' Fernández'], [35, 27, 40], [2, 0, 3], [3, 1, 0]])\n"
     ]
    }
   ],
   "source": [
    "# ¿Cúales son las keys de nuestro diccionario? \n",
    "print(personas.keys())\n",
    "\n",
    "# ¿Y los values?\n",
    "print(personas.values())"
   ]
  },
  {
   "cell_type": "code",
   "execution_count": 22,
   "metadata": {},
   "outputs": [
    {
     "name": "stdout",
     "output_type": "stream",
     "text": [
      "['Laura', ' Sara', ' María']\n",
      "['Laura', ' Sara', ' María']\n"
     ]
    }
   ],
   "source": [
    "# Extraed los valores de la key nombres de dos maneras diferentes.\n",
    "\n",
    "print(personas[\"nombres\"])\n",
    "print(personas.get(\"nombres\"))"
   ]
  },
  {
   "cell_type": "code",
   "execution_count": 23,
   "metadata": {},
   "outputs": [
    {
     "name": "stdout",
     "output_type": "stream",
     "text": [
      "desconocida\n"
     ]
    }
   ],
   "source": [
    "# Extraed los valores de la key nacionalidad. En caso de que no exista, cread esa key con el value \"desconocida\".\n",
    "print(personas.setdefault(\"nacionalidad\", \"desconocida\"))"
   ]
  },
  {
   "cell_type": "code",
   "execution_count": 25,
   "metadata": {},
   "outputs": [
    {
     "name": "stdout",
     "output_type": "stream",
     "text": [
      "{'apellidos': ['López', ' Gómez', ' Fernández'], 'edades': [35, 27, 40], 'hermanos': [3, 1, 0], 'hijos': [2, 0, 3], 'nacionalidad': 'desconocida', 'nombres': ['Laura', ' Sara', ' María']}\n"
     ]
    }
   ],
   "source": [
    "# Ordena los elementos del diccionario basándonos en las keys y los values.\n",
    "\n",
    "personas2 = dict(sorted(personas.items())) \n",
    "print(personas2)"
   ]
  },
  {
   "cell_type": "code",
   "execution_count": 26,
   "metadata": {},
   "outputs": [
    {
     "data": {
      "text/plain": [
       "{'nombres': ['Laura', ' Sara', ' María'],\n",
       " 'apellidos': ['López', ' Gómez', ' Fernández'],\n",
       " 'edades': [35, 27, 40],\n",
       " 'hijos': [2, 0, 3],\n",
       " 'hermanos': [3, 1, 0]}"
      ]
     },
     "execution_count": 26,
     "metadata": {},
     "output_type": "execute_result"
    }
   ],
   "source": [
    "# Elimina la key de nacionalidad.\n",
    "\n",
    "personas.pop(\"nacionalidad\")\n",
    "personas"
   ]
  },
  {
   "cell_type": "code",
   "execution_count": 44,
   "metadata": {},
   "outputs": [
    {
     "name": "stdout",
     "output_type": "stream",
     "text": [
      "[2, 0, 3]\n",
      "3\n"
     ]
    }
   ],
   "source": [
    "#¿Qué persona tiene mayor número de hijos?\n",
    "# Recordamos la lista_hijos, que tiene guardado los datos del input que luego van al diccionario:\n",
    "print(lista_hijos)\n",
    "#Buscamos el máximo dentro de esa lista.\n",
    "print(max(lista_hijos))\n"
   ]
  },
  {
   "cell_type": "code",
   "execution_count": 47,
   "metadata": {},
   "outputs": [
    {
     "name": "stdout",
     "output_type": "stream",
     "text": [
      "2\n"
     ]
    }
   ],
   "source": [
    "\n",
    "#Nos devuelve un número, y utilizamos .index() para saber el índice de dicho resultado.\n",
    "print(lista_hijos.index(3))\n",
    "\n"
   ]
  },
  {
   "cell_type": "code",
   "execution_count": 48,
   "metadata": {},
   "outputs": [
    {
     "data": {
      "text/plain": [
       "' María'"
      ]
     },
     "execution_count": 48,
     "metadata": {},
     "output_type": "execute_result"
    }
   ],
   "source": [
    "#Finalmente, buscamos ese índice en la lista_nombres que guarda los datos del input.\n",
    "lista_nombres[2]"
   ]
  },
  {
   "cell_type": "code",
   "execution_count": 46,
   "metadata": {},
   "outputs": [
    {
     "name": "stdout",
     "output_type": "stream",
     "text": [
      "27\n"
     ]
    }
   ],
   "source": [
    "#¿Quién es la más joven?\n",
    "\n",
    "print(min(lista_edades))"
   ]
  },
  {
   "cell_type": "code",
   "execution_count": 49,
   "metadata": {},
   "outputs": [
    {
     "name": "stdout",
     "output_type": "stream",
     "text": [
      "1\n"
     ]
    }
   ],
   "source": [
    "print(lista_edades.index(27))"
   ]
  },
  {
   "cell_type": "code",
   "execution_count": 50,
   "metadata": {},
   "outputs": [
    {
     "name": "stdout",
     "output_type": "stream",
     "text": [
      " Sara\n"
     ]
    }
   ],
   "source": [
    "print(lista_nombres[1])"
   ]
  }
 ],
 "metadata": {
  "kernelspec": {
   "display_name": "base",
   "language": "python",
   "name": "python3"
  },
  "language_info": {
   "codemirror_mode": {
    "name": "ipython",
    "version": 3
   },
   "file_extension": ".py",
   "mimetype": "text/x-python",
   "name": "python",
   "nbconvert_exporter": "python",
   "pygments_lexer": "ipython3",
   "version": "3.9.7"
  },
  "orig_nbformat": 4
 },
 "nbformat": 4,
 "nbformat_minor": 2
}
