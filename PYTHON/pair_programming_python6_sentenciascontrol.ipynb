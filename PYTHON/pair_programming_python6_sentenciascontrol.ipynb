{
 "cells": [
  {
   "cell_type": "code",
   "execution_count": 11,
   "metadata": {},
   "outputs": [
    {
     "name": "stdout",
     "output_type": "stream",
     "text": [
      "D\n"
     ]
    }
   ],
   "source": [
    "nota_1 = input(\"cuál es la nota\")\n",
    "nota_1 = int(nota_1)\n",
    "if nota_1 < 25:\n",
    "    print(\"F\")\n",
    "elif nota_1 >= 25 and nota_1 < 45:\n",
    "    print(\"E\")\n",
    "elif nota_1 >= 45 and nota_1 < 50:\n",
    "    print(\"D\")\n",
    "elif nota_1 >= 50 and nota_1 < 60:\n",
    "    print(\"C\")\n",
    "elif nota_1 >= 60 and nota_1 < 80:\n",
    "    print(\"B\")\n",
    "else:\n",
    "    print(\"A\")"
   ]
  },
  {
   "cell_type": "code",
   "execution_count": 3,
   "metadata": {},
   "outputs": [],
   "source": [
    "edad_1 = input (\"cuál es tu edad\")\n",
    "edad_2 = input (\"cuál es tu edad\")\n",
    "edad_3 = input (\"cuál es tu edad\")\n",
    "\n",
    "\n",
    "\n",
    "\n"
   ]
  },
  {
   "cell_type": "code",
   "execution_count": 4,
   "metadata": {},
   "outputs": [
    {
     "name": "stdout",
     "output_type": "stream",
     "text": [
      "67 45 27\n"
     ]
    }
   ],
   "source": [
    "print (edad_1, edad_2, edad_3)"
   ]
  },
  {
   "cell_type": "code",
   "execution_count": 6,
   "metadata": {},
   "outputs": [
    {
     "name": "stdout",
     "output_type": "stream",
     "text": [
      "la persona 1 tiene mayor edad\n"
     ]
    }
   ],
   "source": [
    "if edad_1 > edad_2 and edad_1 > edad_3:\n",
    "    print(\"la persona 1 tiene mayor edad\")\n",
    "elif edad_1 < edad_2 and edad_1 < edad_3:\n",
    "    print(\"la persona 3 tiene mayor edad\")\n",
    "else:\n",
    "    print(\"la persona 2 tiene mayor edad\")\n",
    "\n",
    "\n"
   ]
  },
  {
   "cell_type": "code",
   "execution_count": 8,
   "metadata": {},
   "outputs": [
    {
     "name": "stdout",
     "output_type": "stream",
     "text": [
      "la persona 3 tiene menor edad\n"
     ]
    }
   ],
   "source": [
    "if edad_1 < edad_2 and edad_1 < edad_3:\n",
    "    print(\"la persona 1 tiene menor edad\")\n",
    "elif edad_1 > edad_2 and  edad_1 > edad_3:\n",
    "    print(\"la persona 3 tiene menor edad\")\n",
    "else:\n",
    "    print(\"la persona 2 tiene menor edad\")\n",
    "\n"
   ]
  },
  {
   "cell_type": "code",
   "execution_count": 2,
   "metadata": {},
   "outputs": [
    {
     "name": "stdout",
     "output_type": "stream",
     "text": [
      "Bienvenido a bordo de 007\n"
     ]
    }
   ],
   "source": [
    "nombre_1= input(\"cuál es tu nombre\")\n",
    "if nombre_1 == \"Bond\": \n",
    "    print (\"Bienvenido a bordo de 007\") \n",
    "else:\n",
    "    print(f\"Buenos días {nombre_1}\")\n",
    "\n"
   ]
  },
  {
   "cell_type": "code",
   "execution_count": 13,
   "metadata": {},
   "outputs": [
    {
     "name": "stdout",
     "output_type": "stream",
     "text": [
      "['Taiwan', 'Japan', 'Russia', 'Canada', 'Bulgaria']\n",
      "[69593, 49894, 41396, 36388, 24987]\n",
      "['Taiwan']\n",
      "['Taiwan', 'Japan']\n",
      "['Taiwan', 'Japan', 'Russia']\n"
     ]
    }
   ],
   "source": [
    "tree = {\"Taiwan\": 69593,\n",
    "        \"Japan\": 49894, \n",
    "        \"Russia\": 41396, \n",
    "        \"Canada\": 36388, \n",
    "        \"Bulgaria\": 24987}\n",
    "\n",
    "pais = list(tree.keys())\n",
    "print(pais)\n",
    "arboles = list(tree.values())\n",
    "print(arboles)\n",
    "indice_arb = 0\n",
    "indice_pais = 0\n",
    "masarboles = []\n",
    "while arboles[indice_arb] > 40000:\n",
    "    masarboles.append(pais[indice_pais])\n",
    "    indice_arb +=1\n",
    "    indice_pais +=1\n",
    "    print(masarboles)\n"
   ]
  },
  {
   "cell_type": "code",
   "execution_count": 16,
   "metadata": {},
   "outputs": [
    {
     "name": "stdout",
     "output_type": "stream",
     "text": [
      "GrupoA\n"
     ]
    }
   ],
   "source": [
    "genero = input(\"cuál es tu genero\")\n",
    "nombre = input(\"cuál es tu nombre\")\n",
    "if genero == \"femenino\" and nombre < \"M\": \n",
    "    print(\"GrupoA\")\n",
    "elif genero == \"masculino\"and nombre > \"N\":\n",
    "    print(\"GrupoA\")\n",
    "else:\n",
    "    print(\"GrupoB\")\n",
    "    \n"
   ]
  },
  {
   "cell_type": "code",
   "execution_count": 21,
   "metadata": {},
   "outputs": [
    {
     "name": "stdout",
     "output_type": "stream",
     "text": [
      "0\n",
      "1\n",
      "2\n"
     ]
    }
   ],
   "source": [
    "z = 0\n",
    "while z < 3: \n",
    "    if z == 0:\n",
    "        print(z)\n",
    "        lista_aux = [z]\n",
    "        z += 1\n",
    "    elif z == 1:\n",
    "        print(z)\n",
    "        lista_aux = [z]\n",
    "        z += 1\n",
    "    else: \n",
    "        print(z)\n",
    "        z += 1\n"
   ]
  }
 ],
 "metadata": {
  "kernelspec": {
   "display_name": "base",
   "language": "python",
   "name": "python3"
  },
  "language_info": {
   "codemirror_mode": {
    "name": "ipython",
    "version": 3
   },
   "file_extension": ".py",
   "mimetype": "text/x-python",
   "name": "python",
   "nbconvert_exporter": "python",
   "pygments_lexer": "ipython3",
   "version": "3.9.7"
  },
  "orig_nbformat": 4
 },
 "nbformat": 4,
 "nbformat_minor": 2
}
