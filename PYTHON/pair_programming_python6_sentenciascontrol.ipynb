{
 "cells": [
  {
   "cell_type": "code",
   "execution_count": 11,
   "metadata": {},
   "outputs": [
    {
     "name": "stdout",
     "output_type": "stream",
     "text": [
      "D\n"
     ]
    }
   ],
   "source": [
    "nota_1 = input(\"uál es la nota\")\n",
    "nota_1 = int(nota_1)\n",
    "if nota_1 < 25:\n",
    "    print(\"F\")\n",
    "elif nota_1 >= 25 and nota_1 < 45:\n",
    "    print(\"E\")\n",
    "elif nota_1 >= 45 and nota_1 < 50:\n",
    "    print(\"D\")\n",
    "elif nota_1 >= 50 and nota_1 < 60:\n",
    "    print(\"C\")\n",
    "elif nota_1 >= 60 and nota_1 < 80:\n",
    "    print(\"B\")\n",
    "else:\n",
    "    print(\"A\")"
   ]
  },
  {
   "cell_type": "code",
   "execution_count": 3,
   "metadata": {},
   "outputs": [],
   "source": [
    "edad_1 = input (\"cuál es tu edad\")\n",
    "edad_2 = input (\"cuál es tu edad\")\n",
    "edad_3 = input (\"cuál es tu edad\")"
   ]
  },
  {
   "cell_type": "code",
   "execution_count": 4,
   "metadata": {},
   "outputs": [
    {
     "name": "stdout",
     "output_type": "stream",
     "text": [
      "67 45 27\n"
     ]
    }
   ],
   "source": [
    "print (edad_1, edad_2, edad_3)"
   ]
  },
  {
   "cell_type": "code",
   "execution_count": 6,
   "metadata": {},
   "outputs": [
    {
     "name": "stdout",
     "output_type": "stream",
     "text": [
      "la persona 1 tiene mayor edad\n"
     ]
    }
   ],
   "source": [
    "if edad_1 > edad_2 and edad_1 > edad_3:\n",
    "    print(\"la persona 1 tiene mayor edad\")\n",
    "elif edad_1 < edad_2 and edad_1 < edad_3:\n",
    "    print(\"la persona 3 tiene mayor edad\")\n",
    "else:\n",
    "    print(\"la persona 2 tiene mayor edad\")\n",
    "\n",
    "\n"
   ]
  },
  {
   "cell_type": "code",
   "execution_count": 8,
   "metadata": {},
   "outputs": [
    {
     "name": "stdout",
     "output_type": "stream",
     "text": [
      "la persona 3 tiene menor edad\n"
     ]
    }
   ],
   "source": [
    "if edad_1 < edad_2 and edad_1 < edad_3:\n",
    "    print(\"la persona 1 tiene menor edad\")\n",
    "elif edad_1 > edad_2 and  edad_1 > edad_3:\n",
    "    print(\"la persona 3 tiene menor edad\")\n",
    "else:\n",
    "    print(\"la persona 2 tiene menor edad\")\n",
    "\n"
   ]
  },
  {
   "cell_type": "code",
   "execution_count": 2,
   "metadata": {},
   "outputs": [
    {
     "name": "stdout",
     "output_type": "stream",
     "text": [
      "Bienvenido a bordo de 007\n"
     ]
    }
   ],
   "source": [
    "nombre_1= input(\"cuál es tu nombre\")\n",
    "if nombre_1 == \"Bond\": \n",
    "    print (\"Bienvenido a bordo de 007\") \n",
    "else:\n",
    "    print(f\"Buenos días {nombre_1}\")\n",
    "\n"
   ]
  },
  {
   "cell_type": "code",
   "execution_count": 13,
   "metadata": {},
   "outputs": [
    {
     "name": "stdout",
     "output_type": "stream",
     "text": [
      "['Taiwan', 'Japan', 'Russia', 'Canada', 'Bulgaria']\n",
      "[69593, 49894, 41396, 36388, 24987]\n",
      "['Taiwan']\n",
      "['Taiwan', 'Japan']\n",
      "['Taiwan', 'Japan', 'Russia']\n"
     ]
    }
   ],
   "source": [
    "tree = {\"Taiwan\": 69593,\n",
    "        \"Japan\": 49894, \n",
    "        \"Russia\": 41396, \n",
    "        \"Canada\": 36388, \n",
    "        \"Bulgaria\": 24987}\n",
    "\n",
    "pais = list(tree.keys())\n",
    "print(pais)\n",
    "arboles = list(tree.values())\n",
    "print(arboles)\n",
    "indice_arb = 0\n",
    "indice_pais = 0\n",
    "masarboles = []\n",
    "while arboles[indice_arb] > 40000:\n",
    "    masarboles.append(pais[indice_pais])\n",
    "    indice_arb +=1\n",
    "    indice_pais +=1\n",
    "    print(masarboles)\n"
   ]
  },
  {
   "cell_type": "code",
   "execution_count": 16,
   "metadata": {},
   "outputs": [
    {
     "name": "stdout",
     "output_type": "stream",
     "text": [
      "GrupoA\n"
     ]
    }
   ],
   "source": [
    "genero = input(\"cuál es tu género\")\n",
    "nombre = input(\"cuál es tu nombre\")\n",
    "if genero == \"femenino\" and nombre < \"M\": \n",
    "    print(\"Grupo A\")\n",
    "elif genero == \"masculino\"and nombre > \"N\":\n",
    "    print(\"GrupoA\")\n",
    "else:\n",
    "    print(\"Grupo B\")\n",
    "    \n"
   ]
  },
  {
   "cell_type": "code",
   "execution_count": 21,
   "metadata": {},
   "outputs": [
    {
     "name": "stdout",
     "output_type": "stream",
     "text": [
      "0\n",
      "1\n",
      "2\n"
     ]
    }
   ],
   "source": [
    "z = 0\n",
    "while z < 3: \n",
    "    if z == 0:\n",
    "        print(z)\n",
    "        lista_aux = [z]\n",
    "        z += 1\n",
    "    elif z == 1:\n",
    "        print(z)\n",
    "        lista_aux = [z]\n",
    "        z += 1\n",
    "    else: \n",
    "        print(z)\n",
    "        z += 1\n"
   ]
  },
  {
   "cell_type": "code",
   "execution_count": 1,
   "metadata": {},
   "outputs": [
    {
     "name": "stdout",
     "output_type": "stream",
     "text": [
      "[0]\n",
      "[0, 1]\n",
      "[0, 1, 2]\n",
      "[0, 1, 2, 3]\n"
     ]
    }
   ],
   "source": [
    "lista = []\n",
    "cero = 0\n",
    "\n",
    "while len(lista) < 4:\n",
    "    lista.append(cero)\n",
    "    cero += 1\n",
    "    print(lista)"
   ]
  },
  {
   "cell_type": "code",
   "execution_count": 9,
   "metadata": {},
   "outputs": [
    {
     "name": "stdout",
     "output_type": "stream",
     "text": [
      "115\n"
     ]
    }
   ],
   "source": [
    "i = 0\n",
    "lista_numeros = [23, 45, 12, 10, 25]\n",
    "suma= 0\n",
    "\n",
    "while i < len(lista_numeros):\n",
    "    suma += lista_numeros[i]\n",
    "    i += 1\n",
    "\n",
    "print(suma)\n",
    "\n",
    "# A suma, que es 0, se le añade el índice i, que es cero, por tanto 23. A la siguiente, suma es 23, y el índice es 1, que es 45, y así sucesivamente. "
   ]
  },
  {
   "cell_type": "code",
   "execution_count": 13,
   "metadata": {},
   "outputs": [
    {
     "name": "stdout",
     "output_type": "stream",
     "text": [
      "Debes abonar 10€.\n"
     ]
    }
   ],
   "source": [
    "edad = input(\"¿Cuál es tu edad?\")\n",
    "\n",
    "edad = int(edad)\n",
    "\n",
    "if edad < 4:\n",
    "    print(\"Puedes entrar gratis.\")\n",
    "elif edad >= 4 and edad <= 18:\n",
    "    print(\"Debes abonar 5€.\")\n",
    "else:\n",
    "    print(\"Debes abonar 10€.\")"
   ]
  },
  {
   "cell_type": "code",
   "execution_count": 20,
   "metadata": {},
   "outputs": [
    {
     "name": "stdout",
     "output_type": "stream",
     "text": [
      "Ha elegido una pizza vegetariana con los siguientes ingredientes: tomate, mozarella y pimiento\n"
     ]
    }
   ],
   "source": [
    "respuesta = input(\"¿Quiere una pizza vegetariana?\")\n",
    "\n",
    "ingredientes_base = \"tomate, mozarella\"\n",
    "pizza_veggie = [\"pimiento\", \"tofu\"]\n",
    "pizza_no_veggie = [\"peperoni\", \"jamón\" \"salmón\"]\n",
    "\n",
    "\n",
    "if respuesta == \"sí\":\n",
    "    respuesta2 = input(f\"Los ingredientes base son {ingredientes_base}. Elige otro ingrediente de la siguiente lista: {pizza_veggie}\")\n",
    "    print(f\"Ha elegido una pizza vegetariana con los siguientes ingredientes: {ingredientes_base} y {respuesta2}\")\n",
    "\n",
    "else:\n",
    "     print(f\"Los ingredientes base son {ingredientes_base}\")\n",
    "     respuesta3 = input(f\"Los ingredientes base son {ingredientes_base}. Elige otro ingrediente de la siguiente lista: {pizza_no_veggie}\")\n",
    "     print(f\"Ha elegido una pizza no vegetariana con los siguientes ingredientes: {ingredientes_base} y {respuesta3}\")\n",
    "           "
   ]
  }
 ],
 "metadata": {
  "kernelspec": {
   "display_name": "base",
   "language": "python",
   "name": "python3"
  },
  "language_info": {
   "codemirror_mode": {
    "name": "ipython",
    "version": 3
   },
   "file_extension": ".py",
   "mimetype": "text/x-python",
   "name": "python",
   "nbconvert_exporter": "python",
   "pygments_lexer": "ipython3",
   "version": "3.9.7"
  },
  "orig_nbformat": 4
 },
 "nbformat": 4,
 "nbformat_minor": 2
}
