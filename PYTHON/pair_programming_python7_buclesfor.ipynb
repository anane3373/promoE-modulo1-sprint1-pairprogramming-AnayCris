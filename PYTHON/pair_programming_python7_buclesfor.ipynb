{
 "cells": [
  {
   "cell_type": "code",
   "execution_count": 1,
   "metadata": {},
   "outputs": [],
   "source": [
    "cantidad_invertir = input(\"Cuánto quieres invertir?\")\n",
    "interes_anual = input(\"Cuál es el interes anual?\")\n",
    "numero_años = input(\"Durante cuántos años?\")\n",
    "\n"
   ]
  },
  {
   "cell_type": "code",
   "execution_count": 2,
   "metadata": {},
   "outputs": [
    {
     "name": "stdout",
     "output_type": "stream",
     "text": [
      "[15000.0]\n",
      "[15000.0, 22500.0]\n",
      "[15000.0, 22500.0, 33750.0]\n",
      "[15000.0, 22500.0, 33750.0, 50625.0]\n",
      "[15000.0, 22500.0, 33750.0, 50625.0, 75937.5]\n",
      "[15000.0, 22500.0, 33750.0, 50625.0, 75937.5, 113906.25]\n",
      "[15000.0, 22500.0, 33750.0, 50625.0, 75937.5, 113906.25, 170859.375]\n",
      "[15000.0, 22500.0, 33750.0, 50625.0, 75937.5, 113906.25, 170859.375, 256289.0625]\n",
      "[15000.0, 22500.0, 33750.0, 50625.0, 75937.5, 113906.25, 170859.375, 256289.0625, 384433.59375]\n",
      "[15000.0, 22500.0, 33750.0, 50625.0, 75937.5, 113906.25, 170859.375, 256289.0625, 384433.59375, 576650.390625]\n",
      "[15000.0, 22500.0, 33750.0, 50625.0, 75937.5, 113906.25, 170859.375, 256289.0625, 384433.59375, 576650.390625, 864975.5859375]\n"
     ]
    }
   ],
   "source": [
    "cantidad_invertir = float(cantidad_invertir)\n",
    "numero_años = int(numero_años)\n",
    "interes_anual = float(interes_anual)\n",
    "\n",
    "total_capital = []\n",
    "for año in range(0,numero_años + 1):\n",
    "    total_capital.append(interes_anual * cantidad_invertir)\n",
    "    cantidad_invertir = interes_anual * cantidad_invertir \n",
    "    print(total_capital)\n",
    "\n",
    "\n",
    "\n"
   ]
  },
  {
   "cell_type": "code",
   "execution_count": 4,
   "metadata": {},
   "outputs": [],
   "source": [
    "frase = input(\"dime una frase\")\n",
    "letra = input(\"dime una letra\")\n",
    "\n",
    "\n",
    "    "
   ]
  },
  {
   "cell_type": "code",
   "execution_count": 5,
   "metadata": {},
   "outputs": [
    {
     "name": "stdout",
     "output_type": "stream",
     "text": [
      "a\n",
      "a\n"
     ]
    }
   ],
   "source": [
    "for letra in frase:\n",
    "    if letra == \"a\":\n",
    "        print(letra)\n",
    "    else:\n",
    "        pass"
   ]
  },
  {
   "cell_type": "code",
   "execution_count": 6,
   "metadata": {},
   "outputs": [],
   "source": [
    "numero = int(input(\"dime un numero\"))\n",
    "\n"
   ]
  },
  {
   "cell_type": "code",
   "execution_count": 7,
   "metadata": {},
   "outputs": [
    {
     "name": "stdout",
     "output_type": "stream",
     "text": [
      "5 x 1 = 5\n",
      "5 x 2 = 10\n",
      "5 x 3 = 15\n",
      "5 x 4 = 20\n",
      "5 x 5 = 25\n",
      "5 x 6 = 30\n",
      "5 x 7 = 35\n",
      "5 x 8 = 40\n",
      "5 x 9 = 45\n",
      "5 x 10 = 50\n"
     ]
    }
   ],
   "source": [
    "\n",
    "    for num in range(1, 11):\n",
    "        resultado = numero * num\n",
    "        print(f\"{numero} x {num} = {resultado}\")\n",
    "\n",
    "    "
   ]
  },
  {
   "cell_type": "code",
   "execution_count": 9,
   "metadata": {},
   "outputs": [
    {
     "name": "stdout",
     "output_type": "stream",
     "text": [
      "75\n",
      "145\n"
     ]
    }
   ],
   "source": [
    "numeros = [12, 75, 150, 180, 145, 525, 50]\n",
    "\n",
    "for num2 in numeros:\n",
    "    if num2 % 5 == 0 and num2 < 150:\n",
    "        print (num2)\n",
    "    elif num2 > 500:\n",
    "        break\n",
    "    \n",
    "    "
   ]
  },
  {
   "cell_type": "code",
   "execution_count": 25,
   "metadata": {},
   "outputs": [],
   "source": [
    "lista1 = [10, 20, 30, 40, 50]\n",
    "\n",
    "\n"
   ]
  },
  {
   "cell_type": "code",
   "execution_count": 26,
   "metadata": {},
   "outputs": [
    {
     "name": "stdout",
     "output_type": "stream",
     "text": [
      "[50, 40, 30, 20, 10]\n"
     ]
    }
   ],
   "source": [
    "lista1.reverse()\n",
    "print(lista1)"
   ]
  },
  {
   "cell_type": "code",
   "execution_count": 21,
   "metadata": {},
   "outputs": [
    {
     "name": "stdout",
     "output_type": "stream",
     "text": [
      "1\n",
      "4\n",
      "9\n"
     ]
    }
   ],
   "source": [
    "for i in ['1','2','3']:\n",
    "    try:\n",
    "        print (i**2)\n",
    "    except:\n",
    "        print(int(i)**2)\n",
    "\n"
   ]
  }
 ],
 "metadata": {
  "kernelspec": {
   "display_name": "base",
   "language": "python",
   "name": "python3"
  },
  "language_info": {
   "codemirror_mode": {
    "name": "ipython",
    "version": 3
   },
   "file_extension": ".py",
   "mimetype": "text/x-python",
   "name": "python",
   "nbconvert_exporter": "python",
   "pygments_lexer": "ipython3",
   "version": "3.9.7"
  },
  "orig_nbformat": 4
 },
 "nbformat": 4,
 "nbformat_minor": 2
}
